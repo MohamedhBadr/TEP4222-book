{
 "cells": [
  {
   "attachments": {},
   "cell_type": "markdown",
   "metadata": {},
   "source": [
    "# Project Description"
   ]
  },
  {
   "attachments": {},
   "cell_type": "markdown",
   "metadata": {},
   "source": [
    "## Background \n",
    "\n",
    "Your are required to conduct your own IO analysis for the final project of this course. You are free to choose the topic, and send it to the teaching staff for approval. The project submission must include a report and the python script used for the analysis. The report should be 2-4 pages exluding references. "
   ]
  },
  {
   "attachments": {},
   "cell_type": "markdown",
   "metadata": {},
   "source": [
    "## Report Structure\n",
    "\n",
    "<ol>\n",
    "  <li>Introduction/ Background</li>\n",
    "  <li>Literature Review</li>\n",
    "  <li>Methodology and Data</li>\n",
    "  <li>Results</li>\n",
    "  <li>Conclusion</li>\n",
    "  <li>References</li>\n",
    "</ol>"
   ]
  },
  {
   "attachments": {},
   "cell_type": "markdown",
   "metadata": {},
   "source": [
    "## Data\n",
    "\n",
    "You are free to choose any IO or Supply-Use data that fits your research question. However, for EE-MRIO we strongly reccomend the use of EXIOBASE which is developed at the IndEcol programme, NTNU. More on the EXIOBASE can be found on the [EXIOBASE website](https://www.exiobase.eu/)."
   ]
  },
  {
   "cell_type": "markdown",
   "metadata": {},
   "source": []
  }
 ],
 "metadata": {
  "kernelspec": {
   "display_name": "Python 3",
   "language": "python",
   "name": "python3"
  },
  "language_info": {
   "codemirror_mode": {
    "name": "ipython",
    "version": 3
   },
   "file_extension": ".py",
   "mimetype": "text/x-python",
   "name": "python",
   "nbconvert_exporter": "python",
   "pygments_lexer": "ipython3",
   "version": "3.9.7"
  },
  "vscode": {
   "interpreter": {
    "hash": "97fd7b9b5193e1189226e4e33449b7da290fc96db44891f98c0851eb7cfe1070"
   }
  }
 },
 "nbformat": 4,
 "nbformat_minor": 2
}