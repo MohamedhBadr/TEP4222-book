{
 "cells": [
  {
   "attachments": {},
   "cell_type": "markdown",
   "metadata": {},
   "source": [
    "# Project Description"
   ]
  },
  {
   "attachments": {},
   "cell_type": "markdown",
   "metadata": {},
   "source": [
    "## Background \n",
    "Your are required to conduct your own IO analysis for the final project of this course. You are free to choose the topic, and send it to the teaching staff for approval. The project submission must include a report and the python script used for the analysis. The report should be 2-4 pages exluding references. "
   ]
  },
  {
   "attachments": {},
   "cell_type": "markdown",
   "metadata": {},
   "source": [
    "## Report Structure\n",
    "\n",
    "<ol>\n",
    "  <li><b>Introduction/ Background</b>: 1-2 paragraphs on your research question and its relevance to borader sustainability issues</li>\n",
    "  <li><b>Literature Review</b>: How does your research fit within previous research? How far did previous research reach? What do you add with your research? </li>\n",
    "  <li><b>Methodology and Data</b>: How do you calculate your matrices/vectors? which data do you use and why is this appropriate for your analysis?</li>\n",
    "  <li><b>Results</b>: What are the results of your research? How can these results be interpreted? What are the policy implications?</li>\n",
    "  <li><b>Conclusion</b>: To what extent were you able to answer the research question?</li>\n",
    "  <li><b>References</b></li>\n",
    "</ol>"
   ]
  },
  {
   "attachments": {},
   "cell_type": "markdown",
   "metadata": {},
   "source": [
    "## Data\n",
    "\n",
    "You are free to choose any IO or Supply-Use data that fits your research question. However, for EE-MRIO we strongly reccomend the use of EXIOBASE which is developed at the IndEcol programme, NTNU. More on the EXIOBASE can be found on the [EXIOBASE website](https://www.exiobase.eu/)."
   ]
  },
  {
   "attachments": {},
   "cell_type": "markdown",
   "metadata": {},
   "source": [
    "## Presentation\n",
    "Around 2-3 weeks before submission you are required to give a presentation on your research question and progress. This is so you will have enough time to recieve feedback from the teaching staff and your classmates and adjust accordingly. The presentation should be no more than 10 min where you briefly discuss your research question, progress, results, and any challenges you are facing. The presentation is mandatory for those who want to recieve a grade for this course.\n"
   ]
  },
  {
   "attachments": {},
   "cell_type": "markdown",
   "metadata": {},
   "source": [
    "## Submission/ Assessment\n",
    "The project is submitted via Inspera. Only one member of the group should submit on behalf of the rest of the group. You will be assessed based on: \n",
    "\n",
    "<ol>\n",
    "  <li>Quality of Code</li>\n",
    "  <li>Ability to use IO theory to answer your research question</li>\n",
    "  <li>Understanding of IO theory/ Literature</li>\n",
    "</ol>"
   ]
  }
 ],
 "metadata": {
  "kernelspec": {
   "display_name": "Python 3",
   "language": "python",
   "name": "python3"
  },
  "language_info": {
   "codemirror_mode": {
    "name": "ipython",
    "version": 3
   },
   "file_extension": ".py",
   "mimetype": "text/x-python",
   "name": "python",
   "nbconvert_exporter": "python",
   "pygments_lexer": "ipython3",
   "version": "3.9.7"
  },
  "vscode": {
   "interpreter": {
    "hash": "97fd7b9b5193e1189226e4e33449b7da290fc96db44891f98c0851eb7cfe1070"
   }
  }
 },
 "nbformat": 4,
 "nbformat_minor": 2
}