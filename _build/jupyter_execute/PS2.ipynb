{
 "cells": [
  {
   "attachments": {},
   "cell_type": "markdown",
   "id": "bc1a16e8",
   "metadata": {},
   "source": [
    "# Problem Set 2 - The Industry and Final Demand Balances"
   ]
  },
  {
   "attachments": {},
   "cell_type": "markdown",
   "id": "b00f0f40",
   "metadata": {},
   "source": [
    "    \n",
    "The Firm Balance expresses the balance between revenue for products supplied by an industry and the expenditure for the intermediate inputs and factors of production. We would like to test this balance looking at the supply and use tables for the United States in 2021. \n",
    "    \n",
    "A second balance of sorts is between value added and final demand. Value added can be interpreted as income of households and governments, while final demand is the expenditure of households and government. Measured in the same valuation and in a closed economy, these should balance. The second analysis we will conduct is to investigate income and expenditure of households and government.\n",
    "    \n",
    "Please conduct this exercise using matrix algebra in numpy. For summation, use vectors of 1. \n",
    "    "
   ]
  },
  {
   "cell_type": "markdown",
   "id": "30cfa9c5-205f-409e-a890-854820a6d5fe",
   "metadata": {},
   "source": [
    "<b>Your name: </b> "
   ]
  },
  {
   "cell_type": "code",
   "execution_count": 1,
   "id": "461a985e",
   "metadata": {},
   "outputs": [],
   "source": [
    "\n",
    "# US Supply and Use Tables from url = \"https://www.bea.gov/industry/input-output-accounts-data\"\n",
    "\n",
    "import pandas as pd\n",
    "import numpy as np\n",
    "import matplotlib.pyplot as plt\n"
   ]
  },
  {
   "cell_type": "code",
   "execution_count": 2,
   "id": "d478b148-e69e-4d94-a0f2-55cc2e055133",
   "metadata": {
    "tags": []
   },
   "outputs": [
    {
     "ename": "FileNotFoundError",
     "evalue": "[Errno 2] No such file or directory: 'U15_US_2021.csv'",
     "output_type": "error",
     "traceback": [
      "\u001b[1;31m---------------------------------------------------------------------------\u001b[0m",
      "\u001b[1;31mFileNotFoundError\u001b[0m                         Traceback (most recent call last)",
      "\u001b[1;32m~\\AppData\\Local\\Temp/ipykernel_23036/3540404707.py\u001b[0m in \u001b[0;36m<module>\u001b[1;34m\u001b[0m\n\u001b[1;32m----> 1\u001b[1;33m \u001b[0mUse_raw\u001b[0m \u001b[1;33m=\u001b[0m \u001b[0mpd\u001b[0m\u001b[1;33m.\u001b[0m\u001b[0mread_csv\u001b[0m\u001b[1;33m(\u001b[0m\u001b[1;34m\"U15_US_2021.csv\"\u001b[0m\u001b[1;33m,\u001b[0m \u001b[0mheader\u001b[0m\u001b[1;33m=\u001b[0m\u001b[1;36m3\u001b[0m\u001b[1;33m,\u001b[0m \u001b[0mindex_col\u001b[0m\u001b[1;33m=\u001b[0m\u001b[1;36m1\u001b[0m\u001b[1;33m,\u001b[0m \u001b[0mna_values\u001b[0m\u001b[1;33m=\u001b[0m\u001b[1;34m'---'\u001b[0m\u001b[1;33m)\u001b[0m\u001b[1;33m.\u001b[0m\u001b[0mdrop\u001b[0m\u001b[1;33m(\u001b[0m\u001b[1;34m'Unnamed: 0'\u001b[0m\u001b[1;33m,\u001b[0m \u001b[0maxis\u001b[0m\u001b[1;33m=\u001b[0m\u001b[1;36m1\u001b[0m\u001b[1;33m)\u001b[0m\u001b[1;33m\u001b[0m\u001b[1;33m\u001b[0m\u001b[0m\n\u001b[0m\u001b[0;32m      2\u001b[0m \u001b[0mUse\u001b[0m\u001b[1;33m=\u001b[0m\u001b[0mUse_raw\u001b[0m\u001b[1;33m.\u001b[0m\u001b[0miloc\u001b[0m\u001b[1;33m[\u001b[0m\u001b[1;36m0\u001b[0m\u001b[1;33m:\u001b[0m\u001b[1;36m17\u001b[0m\u001b[1;33m,\u001b[0m\u001b[1;36m0\u001b[0m\u001b[1;33m:\u001b[0m\u001b[1;36m15\u001b[0m\u001b[1;33m]\u001b[0m\u001b[1;33m.\u001b[0m\u001b[0mfillna\u001b[0m\u001b[1;33m(\u001b[0m\u001b[1;36m0\u001b[0m\u001b[1;33m)\u001b[0m\u001b[1;33m\u001b[0m\u001b[1;33m\u001b[0m\u001b[0m\n\u001b[0;32m      3\u001b[0m \u001b[0mValueAdded\u001b[0m\u001b[1;33m=\u001b[0m\u001b[0mUse_raw\u001b[0m\u001b[1;33m.\u001b[0m\u001b[0miloc\u001b[0m\u001b[1;33m[\u001b[0m\u001b[1;36m18\u001b[0m\u001b[1;33m:\u001b[0m\u001b[1;36m22\u001b[0m\u001b[1;33m,\u001b[0m\u001b[1;36m0\u001b[0m\u001b[1;33m:\u001b[0m\u001b[1;36m15\u001b[0m\u001b[1;33m]\u001b[0m\u001b[1;33m.\u001b[0m\u001b[0mfillna\u001b[0m\u001b[1;33m(\u001b[0m\u001b[1;36m0\u001b[0m\u001b[1;33m)\u001b[0m\u001b[1;33m\u001b[0m\u001b[1;33m\u001b[0m\u001b[0m\n\u001b[0;32m      4\u001b[0m \u001b[0mFinalDemand\u001b[0m\u001b[1;33m=\u001b[0m\u001b[0mUse_raw\u001b[0m\u001b[1;33m.\u001b[0m\u001b[0miloc\u001b[0m\u001b[1;33m[\u001b[0m\u001b[1;36m0\u001b[0m\u001b[1;33m:\u001b[0m\u001b[1;36m17\u001b[0m\u001b[1;33m,\u001b[0m\u001b[1;36m16\u001b[0m\u001b[1;33m:\u001b[0m\u001b[1;36m21\u001b[0m\u001b[1;33m]\u001b[0m\u001b[1;33m.\u001b[0m\u001b[0mfillna\u001b[0m\u001b[1;33m(\u001b[0m\u001b[1;36m0\u001b[0m\u001b[1;33m)\u001b[0m\u001b[1;33m\u001b[0m\u001b[1;33m\u001b[0m\u001b[0m\n\u001b[0;32m      5\u001b[0m \u001b[1;33m\u001b[0m\u001b[0m\n",
      "\u001b[1;32m~\\Anaconda3\\envs\\TEP4222\\lib\\site-packages\\pandas\\util\\_decorators.py\u001b[0m in \u001b[0;36mwrapper\u001b[1;34m(*args, **kwargs)\u001b[0m\n\u001b[0;32m    309\u001b[0m                     \u001b[0mstacklevel\u001b[0m\u001b[1;33m=\u001b[0m\u001b[0mstacklevel\u001b[0m\u001b[1;33m,\u001b[0m\u001b[1;33m\u001b[0m\u001b[1;33m\u001b[0m\u001b[0m\n\u001b[0;32m    310\u001b[0m                 )\n\u001b[1;32m--> 311\u001b[1;33m             \u001b[1;32mreturn\u001b[0m \u001b[0mfunc\u001b[0m\u001b[1;33m(\u001b[0m\u001b[1;33m*\u001b[0m\u001b[0margs\u001b[0m\u001b[1;33m,\u001b[0m \u001b[1;33m**\u001b[0m\u001b[0mkwargs\u001b[0m\u001b[1;33m)\u001b[0m\u001b[1;33m\u001b[0m\u001b[1;33m\u001b[0m\u001b[0m\n\u001b[0m\u001b[0;32m    312\u001b[0m \u001b[1;33m\u001b[0m\u001b[0m\n\u001b[0;32m    313\u001b[0m         \u001b[1;32mreturn\u001b[0m \u001b[0mwrapper\u001b[0m\u001b[1;33m\u001b[0m\u001b[1;33m\u001b[0m\u001b[0m\n",
      "\u001b[1;32m~\\Anaconda3\\envs\\TEP4222\\lib\\site-packages\\pandas\\io\\parsers\\readers.py\u001b[0m in \u001b[0;36mread_csv\u001b[1;34m(filepath_or_buffer, sep, delimiter, header, names, index_col, usecols, squeeze, prefix, mangle_dupe_cols, dtype, engine, converters, true_values, false_values, skipinitialspace, skiprows, skipfooter, nrows, na_values, keep_default_na, na_filter, verbose, skip_blank_lines, parse_dates, infer_datetime_format, keep_date_col, date_parser, dayfirst, cache_dates, iterator, chunksize, compression, thousands, decimal, lineterminator, quotechar, quoting, doublequote, escapechar, comment, encoding, encoding_errors, dialect, error_bad_lines, warn_bad_lines, on_bad_lines, delim_whitespace, low_memory, memory_map, float_precision, storage_options)\u001b[0m\n\u001b[0;32m    678\u001b[0m     \u001b[0mkwds\u001b[0m\u001b[1;33m.\u001b[0m\u001b[0mupdate\u001b[0m\u001b[1;33m(\u001b[0m\u001b[0mkwds_defaults\u001b[0m\u001b[1;33m)\u001b[0m\u001b[1;33m\u001b[0m\u001b[1;33m\u001b[0m\u001b[0m\n\u001b[0;32m    679\u001b[0m \u001b[1;33m\u001b[0m\u001b[0m\n\u001b[1;32m--> 680\u001b[1;33m     \u001b[1;32mreturn\u001b[0m \u001b[0m_read\u001b[0m\u001b[1;33m(\u001b[0m\u001b[0mfilepath_or_buffer\u001b[0m\u001b[1;33m,\u001b[0m \u001b[0mkwds\u001b[0m\u001b[1;33m)\u001b[0m\u001b[1;33m\u001b[0m\u001b[1;33m\u001b[0m\u001b[0m\n\u001b[0m\u001b[0;32m    681\u001b[0m \u001b[1;33m\u001b[0m\u001b[0m\n\u001b[0;32m    682\u001b[0m \u001b[1;33m\u001b[0m\u001b[0m\n",
      "\u001b[1;32m~\\Anaconda3\\envs\\TEP4222\\lib\\site-packages\\pandas\\io\\parsers\\readers.py\u001b[0m in \u001b[0;36m_read\u001b[1;34m(filepath_or_buffer, kwds)\u001b[0m\n\u001b[0;32m    573\u001b[0m \u001b[1;33m\u001b[0m\u001b[0m\n\u001b[0;32m    574\u001b[0m     \u001b[1;31m# Create the parser.\u001b[0m\u001b[1;33m\u001b[0m\u001b[1;33m\u001b[0m\u001b[0m\n\u001b[1;32m--> 575\u001b[1;33m     \u001b[0mparser\u001b[0m \u001b[1;33m=\u001b[0m \u001b[0mTextFileReader\u001b[0m\u001b[1;33m(\u001b[0m\u001b[0mfilepath_or_buffer\u001b[0m\u001b[1;33m,\u001b[0m \u001b[1;33m**\u001b[0m\u001b[0mkwds\u001b[0m\u001b[1;33m)\u001b[0m\u001b[1;33m\u001b[0m\u001b[1;33m\u001b[0m\u001b[0m\n\u001b[0m\u001b[0;32m    576\u001b[0m \u001b[1;33m\u001b[0m\u001b[0m\n\u001b[0;32m    577\u001b[0m     \u001b[1;32mif\u001b[0m \u001b[0mchunksize\u001b[0m \u001b[1;32mor\u001b[0m \u001b[0miterator\u001b[0m\u001b[1;33m:\u001b[0m\u001b[1;33m\u001b[0m\u001b[1;33m\u001b[0m\u001b[0m\n",
      "\u001b[1;32m~\\Anaconda3\\envs\\TEP4222\\lib\\site-packages\\pandas\\io\\parsers\\readers.py\u001b[0m in \u001b[0;36m__init__\u001b[1;34m(self, f, engine, **kwds)\u001b[0m\n\u001b[0;32m    932\u001b[0m \u001b[1;33m\u001b[0m\u001b[0m\n\u001b[0;32m    933\u001b[0m         \u001b[0mself\u001b[0m\u001b[1;33m.\u001b[0m\u001b[0mhandles\u001b[0m\u001b[1;33m:\u001b[0m \u001b[0mIOHandles\u001b[0m \u001b[1;33m|\u001b[0m \u001b[1;32mNone\u001b[0m \u001b[1;33m=\u001b[0m \u001b[1;32mNone\u001b[0m\u001b[1;33m\u001b[0m\u001b[1;33m\u001b[0m\u001b[0m\n\u001b[1;32m--> 934\u001b[1;33m         \u001b[0mself\u001b[0m\u001b[1;33m.\u001b[0m\u001b[0m_engine\u001b[0m \u001b[1;33m=\u001b[0m \u001b[0mself\u001b[0m\u001b[1;33m.\u001b[0m\u001b[0m_make_engine\u001b[0m\u001b[1;33m(\u001b[0m\u001b[0mf\u001b[0m\u001b[1;33m,\u001b[0m \u001b[0mself\u001b[0m\u001b[1;33m.\u001b[0m\u001b[0mengine\u001b[0m\u001b[1;33m)\u001b[0m\u001b[1;33m\u001b[0m\u001b[1;33m\u001b[0m\u001b[0m\n\u001b[0m\u001b[0;32m    935\u001b[0m \u001b[1;33m\u001b[0m\u001b[0m\n\u001b[0;32m    936\u001b[0m     \u001b[1;32mdef\u001b[0m \u001b[0mclose\u001b[0m\u001b[1;33m(\u001b[0m\u001b[0mself\u001b[0m\u001b[1;33m)\u001b[0m\u001b[1;33m:\u001b[0m\u001b[1;33m\u001b[0m\u001b[1;33m\u001b[0m\u001b[0m\n",
      "\u001b[1;32m~\\Anaconda3\\envs\\TEP4222\\lib\\site-packages\\pandas\\io\\parsers\\readers.py\u001b[0m in \u001b[0;36m_make_engine\u001b[1;34m(self, f, engine)\u001b[0m\n\u001b[0;32m   1216\u001b[0m             \u001b[1;31m# \"Union[str, PathLike[str], ReadCsvBuffer[bytes], ReadCsvBuffer[str]]\"\u001b[0m\u001b[1;33m\u001b[0m\u001b[1;33m\u001b[0m\u001b[0m\n\u001b[0;32m   1217\u001b[0m             \u001b[1;31m# , \"str\", \"bool\", \"Any\", \"Any\", \"Any\", \"Any\", \"Any\"\u001b[0m\u001b[1;33m\u001b[0m\u001b[1;33m\u001b[0m\u001b[0m\n\u001b[1;32m-> 1218\u001b[1;33m             self.handles = get_handle(  # type: ignore[call-overload]\n\u001b[0m\u001b[0;32m   1219\u001b[0m                 \u001b[0mf\u001b[0m\u001b[1;33m,\u001b[0m\u001b[1;33m\u001b[0m\u001b[1;33m\u001b[0m\u001b[0m\n\u001b[0;32m   1220\u001b[0m                 \u001b[0mmode\u001b[0m\u001b[1;33m,\u001b[0m\u001b[1;33m\u001b[0m\u001b[1;33m\u001b[0m\u001b[0m\n",
      "\u001b[1;32m~\\Anaconda3\\envs\\TEP4222\\lib\\site-packages\\pandas\\io\\common.py\u001b[0m in \u001b[0;36mget_handle\u001b[1;34m(path_or_buf, mode, encoding, compression, memory_map, is_text, errors, storage_options)\u001b[0m\n\u001b[0;32m    784\u001b[0m         \u001b[1;32mif\u001b[0m \u001b[0mioargs\u001b[0m\u001b[1;33m.\u001b[0m\u001b[0mencoding\u001b[0m \u001b[1;32mand\u001b[0m \u001b[1;34m\"b\"\u001b[0m \u001b[1;32mnot\u001b[0m \u001b[1;32min\u001b[0m \u001b[0mioargs\u001b[0m\u001b[1;33m.\u001b[0m\u001b[0mmode\u001b[0m\u001b[1;33m:\u001b[0m\u001b[1;33m\u001b[0m\u001b[1;33m\u001b[0m\u001b[0m\n\u001b[0;32m    785\u001b[0m             \u001b[1;31m# Encoding\u001b[0m\u001b[1;33m\u001b[0m\u001b[1;33m\u001b[0m\u001b[0m\n\u001b[1;32m--> 786\u001b[1;33m             handle = open(\n\u001b[0m\u001b[0;32m    787\u001b[0m                 \u001b[0mhandle\u001b[0m\u001b[1;33m,\u001b[0m\u001b[1;33m\u001b[0m\u001b[1;33m\u001b[0m\u001b[0m\n\u001b[0;32m    788\u001b[0m                 \u001b[0mioargs\u001b[0m\u001b[1;33m.\u001b[0m\u001b[0mmode\u001b[0m\u001b[1;33m,\u001b[0m\u001b[1;33m\u001b[0m\u001b[1;33m\u001b[0m\u001b[0m\n",
      "\u001b[1;31mFileNotFoundError\u001b[0m: [Errno 2] No such file or directory: 'U15_US_2021.csv'"
     ]
    }
   ],
   "source": [
    "\n",
    "Use_raw = pd.read_csv(\"U15_US_2021.csv\", header=3, index_col=1, na_values='---').drop('Unnamed: 0', axis=1)   \n",
    "Use=Use_raw.iloc[0:17,0:15].fillna(0) \n",
    "ValueAdded=Use_raw.iloc[18:22,0:15].fillna(0) \n",
    "FinalDemand=Use_raw.iloc[0:17,16:21].fillna(0)\n",
    "\n",
    "Supply_raw = pd.read_csv(r'S15_US_2021.csv', header=3, index_col=1,na_values='---')\n",
    "Supply=Supply_raw.iloc[0:17,1:16].fillna(0) "
   ]
  },
  {
   "cell_type": "markdown",
   "id": "e91925bc-6a9b-41bc-95cb-97b0c1b7da51",
   "metadata": {},
   "source": [
    "Please feel free to explore the dataframes that we created to ensure that they contain the information we want.\n",
    "\n",
    "We now create a new dataframe that store the results of our calculations per industry. Which of those matrices had a dimension industry? "
   ]
  },
  {
   "cell_type": "code",
   "execution_count": null,
   "id": "1be0d26e-6eb1-4674-9189-958dfb1ee856",
   "metadata": {},
   "outputs": [],
   "source": [
    "IndustrySums = pd.DataFrame(index=sum_expenditure.index, \n",
    "    columns = ['Revenue','Intermediate Inputs', 'Production Factors','Total Expenditure', 'Rev/exp ratio'])"
   ]
  },
  {
   "cell_type": "markdown",
   "id": "693fd4fe",
   "metadata": {},
   "source": [
    "In order to do sums in the proper way in linear algebra, we need vectors of 1. In addition, we need to know that the multiplication of two matrices is represented in numpy by the '@' symbol. "
   ]
  },
  {
   "cell_type": "markdown",
   "id": "56cc1a62-3f30-49b4-b3c1-084ae8c5c56e",
   "metadata": {},
   "source": [
    "<b>Q1.</b> What is the total revenue per industry sector? Calculate this using a matrix multiplication. "
   ]
  },
  {
   "cell_type": "code",
   "execution_count": null,
   "id": "127a6aff",
   "metadata": {
    "tags": []
   },
   "outputs": [],
   "source": [
    "#Define the number of commodities and create a vector of that size\n",
    "n_commodities = Supply.shape[0]\n",
    "i_c = np.ones(n_commodities)\n",
    "IndustrySums['Revenue'] = Supply.T @ i_c"
   ]
  },
  {
   "cell_type": "markdown",
   "id": "b5216e86-4163-4d43-a3f6-ab87b37c46c3",
   "metadata": {},
   "source": [
    "<b>Q2.</b> What is the cost of intermediate inputs per industry? Calculate as above."
   ]
  },
  {
   "cell_type": "code",
   "execution_count": null,
   "id": "42714180-9beb-4e56-9ef0-a5872a70b44f",
   "metadata": {},
   "outputs": [],
   "source": [
    "#Please remove comment sign (#) and complete equation below\n",
    "#IndustrySums['Intermediate inputs'] =  @\n",
    "IndustrySums"
   ]
  },
  {
   "cell_type": "markdown",
   "id": "df5cbe65-a558-4758-a3ff-a6f4c9ab7c38",
   "metadata": {},
   "source": [
    "<b>Q3.</b> What is the value addded per industry? What is the total expenditure per industry?"
   ]
  },
  {
   "cell_type": "code",
   "execution_count": null,
   "id": "ff260595-8be8-4899-ba3f-c147e214002a",
   "metadata": {},
   "outputs": [],
   "source": [
    "i_w = np.ones(ValueAdded.shape[0])\n",
    "#IndustrySums['Value Added'] = \n",
    "#IndustrySums['Total Expenditure'] = \n",
    "IndustrySums['Rev/exp ratio'] = IndustrySums['Revenue']/IndustrySums['Total Expenditure']\n",
    "IndustrySums"
   ]
  },
  {
   "cell_type": "markdown",
   "id": "a6c55752-18d8-4d93-91c5-ac0083f8ef23",
   "metadata": {},
   "source": [
    "<b>Q4.</b> Graph the results, comparing revenue and total expenditure, on a scatter plot (x-y chart)."
   ]
  },
  {
   "cell_type": "code",
   "execution_count": null,
   "id": "26b19f3a-553b-4cba-b78e-60a8a5a08ced",
   "metadata": {},
   "outputs": [],
   "source": [
    "i_i = np.ones(Use.shape[1])\n",
    "i_e = np.ones(FinalDemand.shape[1])\n"
   ]
  },
  {
   "cell_type": "markdown",
   "id": "d25b9dd9-354e-4981-acc9-d0ce571826fd",
   "metadata": {},
   "source": [
    "<b>Q5.</b> How close are revenue and total expenditure? Is there an explanation for the difference?"
   ]
  },
  {
   "cell_type": "markdown",
   "id": "ec651cb6-ac34-4b1c-a2f2-5aaf0eeed80f",
   "metadata": {
    "tags": []
   },
   "source": [
    "Write your answer here.\n",
    "\n",
    "\n",
    "\n"
   ]
  },
  {
   "cell_type": "markdown",
   "id": "6db40348-3fc4-4fc7-a67f-77aa2a7aedfb",
   "metadata": {},
   "source": [
    "<b>Q6.</b> Sum the components of value added across industries. What is the share of income of governments and households contributed by each of the components of value added. Display using a pie or bar chart. "
   ]
  },
  {
   "cell_type": "code",
   "execution_count": null,
   "id": "26d4bd38-937e-4340-b9b4-a8e625f92480",
   "metadata": {},
   "outputs": [],
   "source": [
    "i_i = np.ones(Use.shape[1])\n",
    "#SumValueAdded = @"
   ]
  },
  {
   "cell_type": "markdown",
   "id": "12592f22-981b-4736-b1ad-a33cc687ea41",
   "metadata": {},
   "source": [
    "<b>Q7.</b> What is the final demand by final demand category? Who spends the money in the United States? What is the fraction of total final demand constituted by government expenditure? "
   ]
  },
  {
   "cell_type": "code",
   "execution_count": null,
   "id": "7d485294-cd56-4d0e-8264-1092f56791fe",
   "metadata": {
    "tags": []
   },
   "outputs": [],
   "source": [
    "#SumFinalDemand = i_c.T @ FinalDemand\n",
    "\n",
    "SumFinalDemand.plot.barh(xlabel = 'Million $', title = 'Final Demand 2021')"
   ]
  },
  {
   "cell_type": "markdown",
   "id": "2f9d4093-790c-44b2-8842-cea0303e0cc4",
   "metadata": {
    "tags": []
   },
   "source": [
    "<b>Q8.</b> Compare the sum totals of final demand and value added. Why do you think they are different?"
   ]
  },
  {
   "cell_type": "code",
   "execution_count": null,
   "id": "9a58526b-af1a-449a-9573-0e82ded1152b",
   "metadata": {},
   "outputs": [],
   "source": []
  },
  {
   "cell_type": "code",
   "execution_count": null,
   "id": "3189db92-0bd4-4470-a529-27091fcae8a9",
   "metadata": {
    "tags": []
   },
   "outputs": [],
   "source": []
  },
  {
   "cell_type": "markdown",
   "id": "1f4541a2-0f1e-4ace-a76c-add6ec695cfa",
   "metadata": {},
   "source": [
    "<b>Q9.</b> Compare Gross operating surplus and private fixed investment. What fraction of surplus is being reinvested? "
   ]
  },
  {
   "cell_type": "code",
   "execution_count": null,
   "id": "3ae4f1a0-10f1-470b-8855-7d0e056d0600",
   "metadata": {},
   "outputs": [],
   "source": []
  },
  {
   "cell_type": "code",
   "execution_count": null,
   "id": "d570163f",
   "metadata": {},
   "outputs": [],
   "source": []
  }
 ],
 "metadata": {
  "kernelspec": {
   "display_name": "Python 3",
   "language": "python",
   "name": "python3"
  },
  "language_info": {
   "codemirror_mode": {
    "name": "ipython",
    "version": 3
   },
   "file_extension": ".py",
   "mimetype": "text/x-python",
   "name": "python",
   "nbconvert_exporter": "python",
   "pygments_lexer": "ipython3",
   "version": "3.9.7"
  },
  "vscode": {
   "interpreter": {
    "hash": "97fd7b9b5193e1189226e4e33449b7da290fc96db44891f98c0851eb7cfe1070"
   }
  }
 },
 "nbformat": 4,
 "nbformat_minor": 5
}