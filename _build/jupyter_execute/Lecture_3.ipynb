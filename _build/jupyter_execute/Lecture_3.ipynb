{
 "cells": [
  {
   "attachments": {},
   "cell_type": "markdown",
   "id": "9d572431",
   "metadata": {},
   "source": [
    "# Lecture 3 - Symmetric input-output table of the Norwegian economy  "
   ]
  },
  {
   "attachments": {},
   "cell_type": "markdown",
   "id": "f171a4b2",
   "metadata": {},
   "source": [
    "Edgar Hertwich, 2022\n",
    "\n",
    "Data source: Nygård, Input-output analysis of the Norwegian economy, url={https://www.norges-bank.no/contentassets/c0a72b2d48084964a6804e09beb2d60b/staff_memo_2013_17.pdf}\n",
    "\n",
    "The aim of this exercise is to  \n",
    "    - inspect a symmetric input-output table of Norway and thus learn some things about the Norwegian Economy  \n",
    "    - learn how to calculate and interpret the Leontief inverse  \n",
    "    - calculate the amount of imports to industries are required to satisfy the final demand by households, government, investment, and export.  \n",
    "    \n",
    "    "
   ]
  },
  {
   "cell_type": "code",
   "execution_count": 1,
   "id": "da5e1db1",
   "metadata": {},
   "outputs": [],
   "source": [
    "import pandas as pd\n",
    "import numpy as np"
   ]
  },
  {
   "cell_type": "code",
   "execution_count": 2,
   "id": "7ccd8b8b",
   "metadata": {},
   "outputs": [
    {
     "ename": "FileNotFoundError",
     "evalue": "[Errno 2] No such file or directory: 'NO_2010.xlsx'",
     "output_type": "error",
     "traceback": [
      "\u001b[1;31m---------------------------------------------------------------------------\u001b[0m",
      "\u001b[1;31mFileNotFoundError\u001b[0m                         Traceback (most recent call last)",
      "\u001b[1;32m~\\AppData\\Local\\Temp/ipykernel_1484/2821394461.py\u001b[0m in \u001b[0;36m<module>\u001b[1;34m\u001b[0m\n\u001b[1;32m----> 1\u001b[1;33m \u001b[0mdf\u001b[0m \u001b[1;33m=\u001b[0m \u001b[0mpd\u001b[0m\u001b[1;33m.\u001b[0m\u001b[0mread_excel\u001b[0m\u001b[1;33m(\u001b[0m\u001b[1;34m'NO_2010.xlsx'\u001b[0m\u001b[1;33m,\u001b[0m\u001b[0musecols\u001b[0m\u001b[1;33m=\u001b[0m\u001b[1;34m'A:J'\u001b[0m\u001b[1;33m,\u001b[0m \u001b[0mindex_col\u001b[0m\u001b[1;33m=\u001b[0m\u001b[1;36m0\u001b[0m\u001b[1;33m)\u001b[0m\u001b[1;33m\u001b[0m\u001b[1;33m\u001b[0m\u001b[0m\n\u001b[0m\u001b[0;32m      2\u001b[0m \u001b[0mdf\u001b[0m\u001b[1;33m\u001b[0m\u001b[1;33m\u001b[0m\u001b[0m\n",
      "\u001b[1;32m~\\Anaconda3\\envs\\TEP4222\\lib\\site-packages\\pandas\\util\\_decorators.py\u001b[0m in \u001b[0;36mwrapper\u001b[1;34m(*args, **kwargs)\u001b[0m\n\u001b[0;32m    309\u001b[0m                     \u001b[0mstacklevel\u001b[0m\u001b[1;33m=\u001b[0m\u001b[0mstacklevel\u001b[0m\u001b[1;33m,\u001b[0m\u001b[1;33m\u001b[0m\u001b[1;33m\u001b[0m\u001b[0m\n\u001b[0;32m    310\u001b[0m                 )\n\u001b[1;32m--> 311\u001b[1;33m             \u001b[1;32mreturn\u001b[0m \u001b[0mfunc\u001b[0m\u001b[1;33m(\u001b[0m\u001b[1;33m*\u001b[0m\u001b[0margs\u001b[0m\u001b[1;33m,\u001b[0m \u001b[1;33m**\u001b[0m\u001b[0mkwargs\u001b[0m\u001b[1;33m)\u001b[0m\u001b[1;33m\u001b[0m\u001b[1;33m\u001b[0m\u001b[0m\n\u001b[0m\u001b[0;32m    312\u001b[0m \u001b[1;33m\u001b[0m\u001b[0m\n\u001b[0;32m    313\u001b[0m         \u001b[1;32mreturn\u001b[0m \u001b[0mwrapper\u001b[0m\u001b[1;33m\u001b[0m\u001b[1;33m\u001b[0m\u001b[0m\n",
      "\u001b[1;32m~\\Anaconda3\\envs\\TEP4222\\lib\\site-packages\\pandas\\io\\excel\\_base.py\u001b[0m in \u001b[0;36mread_excel\u001b[1;34m(io, sheet_name, header, names, index_col, usecols, squeeze, dtype, engine, converters, true_values, false_values, skiprows, nrows, na_values, keep_default_na, na_filter, verbose, parse_dates, date_parser, thousands, decimal, comment, skipfooter, convert_float, mangle_dupe_cols, storage_options)\u001b[0m\n\u001b[0;32m    455\u001b[0m     \u001b[1;32mif\u001b[0m \u001b[1;32mnot\u001b[0m \u001b[0misinstance\u001b[0m\u001b[1;33m(\u001b[0m\u001b[0mio\u001b[0m\u001b[1;33m,\u001b[0m \u001b[0mExcelFile\u001b[0m\u001b[1;33m)\u001b[0m\u001b[1;33m:\u001b[0m\u001b[1;33m\u001b[0m\u001b[1;33m\u001b[0m\u001b[0m\n\u001b[0;32m    456\u001b[0m         \u001b[0mshould_close\u001b[0m \u001b[1;33m=\u001b[0m \u001b[1;32mTrue\u001b[0m\u001b[1;33m\u001b[0m\u001b[1;33m\u001b[0m\u001b[0m\n\u001b[1;32m--> 457\u001b[1;33m         \u001b[0mio\u001b[0m \u001b[1;33m=\u001b[0m \u001b[0mExcelFile\u001b[0m\u001b[1;33m(\u001b[0m\u001b[0mio\u001b[0m\u001b[1;33m,\u001b[0m \u001b[0mstorage_options\u001b[0m\u001b[1;33m=\u001b[0m\u001b[0mstorage_options\u001b[0m\u001b[1;33m,\u001b[0m \u001b[0mengine\u001b[0m\u001b[1;33m=\u001b[0m\u001b[0mengine\u001b[0m\u001b[1;33m)\u001b[0m\u001b[1;33m\u001b[0m\u001b[1;33m\u001b[0m\u001b[0m\n\u001b[0m\u001b[0;32m    458\u001b[0m     \u001b[1;32melif\u001b[0m \u001b[0mengine\u001b[0m \u001b[1;32mand\u001b[0m \u001b[0mengine\u001b[0m \u001b[1;33m!=\u001b[0m \u001b[0mio\u001b[0m\u001b[1;33m.\u001b[0m\u001b[0mengine\u001b[0m\u001b[1;33m:\u001b[0m\u001b[1;33m\u001b[0m\u001b[1;33m\u001b[0m\u001b[0m\n\u001b[0;32m    459\u001b[0m         raise ValueError(\n",
      "\u001b[1;32m~\\Anaconda3\\envs\\TEP4222\\lib\\site-packages\\pandas\\io\\excel\\_base.py\u001b[0m in \u001b[0;36m__init__\u001b[1;34m(self, path_or_buffer, engine, storage_options)\u001b[0m\n\u001b[0;32m   1374\u001b[0m                 \u001b[0mext\u001b[0m \u001b[1;33m=\u001b[0m \u001b[1;34m\"xls\"\u001b[0m\u001b[1;33m\u001b[0m\u001b[1;33m\u001b[0m\u001b[0m\n\u001b[0;32m   1375\u001b[0m             \u001b[1;32melse\u001b[0m\u001b[1;33m:\u001b[0m\u001b[1;33m\u001b[0m\u001b[1;33m\u001b[0m\u001b[0m\n\u001b[1;32m-> 1376\u001b[1;33m                 ext = inspect_excel_format(\n\u001b[0m\u001b[0;32m   1377\u001b[0m                     \u001b[0mcontent_or_path\u001b[0m\u001b[1;33m=\u001b[0m\u001b[0mpath_or_buffer\u001b[0m\u001b[1;33m,\u001b[0m \u001b[0mstorage_options\u001b[0m\u001b[1;33m=\u001b[0m\u001b[0mstorage_options\u001b[0m\u001b[1;33m\u001b[0m\u001b[1;33m\u001b[0m\u001b[0m\n\u001b[0;32m   1378\u001b[0m                 )\n",
      "\u001b[1;32m~\\Anaconda3\\envs\\TEP4222\\lib\\site-packages\\pandas\\io\\excel\\_base.py\u001b[0m in \u001b[0;36minspect_excel_format\u001b[1;34m(content_or_path, storage_options)\u001b[0m\n\u001b[0;32m   1248\u001b[0m         \u001b[0mcontent_or_path\u001b[0m \u001b[1;33m=\u001b[0m \u001b[0mBytesIO\u001b[0m\u001b[1;33m(\u001b[0m\u001b[0mcontent_or_path\u001b[0m\u001b[1;33m)\u001b[0m\u001b[1;33m\u001b[0m\u001b[1;33m\u001b[0m\u001b[0m\n\u001b[0;32m   1249\u001b[0m \u001b[1;33m\u001b[0m\u001b[0m\n\u001b[1;32m-> 1250\u001b[1;33m     with get_handle(\n\u001b[0m\u001b[0;32m   1251\u001b[0m         \u001b[0mcontent_or_path\u001b[0m\u001b[1;33m,\u001b[0m \u001b[1;34m\"rb\"\u001b[0m\u001b[1;33m,\u001b[0m \u001b[0mstorage_options\u001b[0m\u001b[1;33m=\u001b[0m\u001b[0mstorage_options\u001b[0m\u001b[1;33m,\u001b[0m \u001b[0mis_text\u001b[0m\u001b[1;33m=\u001b[0m\u001b[1;32mFalse\u001b[0m\u001b[1;33m\u001b[0m\u001b[1;33m\u001b[0m\u001b[0m\n\u001b[0;32m   1252\u001b[0m     ) as handle:\n",
      "\u001b[1;32m~\\Anaconda3\\envs\\TEP4222\\lib\\site-packages\\pandas\\io\\common.py\u001b[0m in \u001b[0;36mget_handle\u001b[1;34m(path_or_buf, mode, encoding, compression, memory_map, is_text, errors, storage_options)\u001b[0m\n\u001b[0;32m    793\u001b[0m         \u001b[1;32melse\u001b[0m\u001b[1;33m:\u001b[0m\u001b[1;33m\u001b[0m\u001b[1;33m\u001b[0m\u001b[0m\n\u001b[0;32m    794\u001b[0m             \u001b[1;31m# Binary mode\u001b[0m\u001b[1;33m\u001b[0m\u001b[1;33m\u001b[0m\u001b[0m\n\u001b[1;32m--> 795\u001b[1;33m             \u001b[0mhandle\u001b[0m \u001b[1;33m=\u001b[0m \u001b[0mopen\u001b[0m\u001b[1;33m(\u001b[0m\u001b[0mhandle\u001b[0m\u001b[1;33m,\u001b[0m \u001b[0mioargs\u001b[0m\u001b[1;33m.\u001b[0m\u001b[0mmode\u001b[0m\u001b[1;33m)\u001b[0m\u001b[1;33m\u001b[0m\u001b[1;33m\u001b[0m\u001b[0m\n\u001b[0m\u001b[0;32m    796\u001b[0m         \u001b[0mhandles\u001b[0m\u001b[1;33m.\u001b[0m\u001b[0mappend\u001b[0m\u001b[1;33m(\u001b[0m\u001b[0mhandle\u001b[0m\u001b[1;33m)\u001b[0m\u001b[1;33m\u001b[0m\u001b[1;33m\u001b[0m\u001b[0m\n\u001b[0;32m    797\u001b[0m \u001b[1;33m\u001b[0m\u001b[0m\n",
      "\u001b[1;31mFileNotFoundError\u001b[0m: [Errno 2] No such file or directory: 'NO_2010.xlsx'"
     ]
    }
   ],
   "source": [
    "df = pd.read_excel('NO_2010.xlsx',usecols='A:J', index_col=0)\n",
    "df"
   ]
  },
  {
   "cell_type": "code",
   "execution_count": null,
   "id": "07d4e5d8",
   "metadata": {},
   "outputs": [],
   "source": [
    "Z = df.loc['Agriculture':'Finance','Agriculture':'Finance']\n",
    "M = df.loc['Imports','Agriculture':'Finance']\n",
    "V = df.loc['Labour':'Taxes','Agriculture':'Finance']"
   ]
  },
  {
   "cell_type": "markdown",
   "id": "1a4bf8ab",
   "metadata": {},
   "source": [
    "**Q1: Define the matrices representing final demand (Y).**  \n",
    "- Evaluate the total demand by each final demand type and graph this.  "
   ]
  },
  {
   "cell_type": "code",
   "execution_count": null,
   "id": "7a415d08",
   "metadata": {},
   "outputs": [],
   "source": []
  },
  {
   "cell_type": "markdown",
   "id": "a8932687",
   "metadata": {},
   "source": [
    "**Q2: Market Balance.**  \n",
    "a) Calculate the total sales of each commodity. Display on a bar or pie chart. What is the most sold commodity?  \n",
    "b) Compare sales to industries (intermediate use) with sales to final demand. What share of commodities produced in Norway is also used as an input to production in Norway?  \n",
    "c) Who is the largest consumer of services? "
   ]
  },
  {
   "cell_type": "code",
   "execution_count": null,
   "id": "13d27826",
   "metadata": {},
   "outputs": [],
   "source": [
    "# a) Total sales of each commodity.\n",
    "\n",
    "# The most sold commodity is: "
   ]
  },
  {
   "cell_type": "code",
   "execution_count": null,
   "id": "fb0fa52e",
   "metadata": {},
   "outputs": [],
   "source": [
    "# b) intermediate vs final demand\n",
    "Y_sum=Y.sum().sum()\n",
    "\n",
    "#use the following code to print the share of intermediates:\n",
    "#print('Of all commodities, {:.0%} are used as an input to production in Norway'.format(intermediate_share))"
   ]
  },
  {
   "cell_type": "code",
   "execution_count": null,
   "id": "028fdc41",
   "metadata": {},
   "outputs": [],
   "source": [
    "# c) largest consumer of services\n",
    "all_sales=Z.join(Y)\n",
    "all_sales.loc['Services'].plot(kind='bar')\n",
    "# The largest consumer of services is the ..."
   ]
  },
  {
   "cell_type": "markdown",
   "id": "98e809bf",
   "metadata": {},
   "source": [
    "**Q3: Industry Balance.**  \n",
    "a) Calculate the total inputs to industry. Compare with answer to 2a). What do you notice?  \n",
    "b) How large is value added per unit output in each industry?   \n",
    "c) What industry has the highest capital intensity? What industry has the highest labor intensity?"
   ]
  },
  {
   "cell_type": "code",
   "execution_count": null,
   "id": "53fd1f3f",
   "metadata": {},
   "outputs": [],
   "source": [
    "# a) sum of inputs to industry\n",
    "\n",
    "# Explain what you find: "
   ]
  },
  {
   "cell_type": "markdown",
   "id": "28ae8bbd",
   "metadata": {},
   "source": [
    "**Q4: Input coefficients.**  \n"
   ]
  },
  {
   "cell_type": "code",
   "execution_count": null,
   "id": "0390c26c",
   "metadata": {},
   "outputs": [],
   "source": [
    "V_bar=V.divide(x2)\n",
    "M_bar = M.divide(x2)"
   ]
  },
  {
   "cell_type": "markdown",
   "id": "fbc1bf26",
   "metadata": {},
   "source": [
    "a) Calculate the A-matrix, i.e. the interindustry input coefficients. "
   ]
  },
  {
   "cell_type": "code",
   "execution_count": null,
   "id": "15fb15ba",
   "metadata": {},
   "outputs": [],
   "source": []
  },
  {
   "cell_type": "markdown",
   "id": "744dccdc",
   "metadata": {},
   "source": [
    "b) what is the sum of all the input coefficients (interindustry, value added, imports) to an industry?"
   ]
  },
  {
   "cell_type": "code",
   "execution_count": null,
   "id": "6eeb9ea0",
   "metadata": {},
   "outputs": [],
   "source": []
  },
  {
   "cell_type": "markdown",
   "id": "5cd5f34e",
   "metadata": {},
   "source": [
    "c) What is the Leontief inverse of the A matrix? "
   ]
  },
  {
   "cell_type": "code",
   "execution_count": null,
   "id": "3acf38ae",
   "metadata": {},
   "outputs": [],
   "source": [
    "AA= np.array(A)\n",
    "LL=np.linalg.inv(np.eye(5)-AA)\n",
    "LL"
   ]
  },
  {
   "cell_type": "markdown",
   "id": "50154768",
   "metadata": {},
   "source": [
    "d) From the Leontief inverse, specify and graph the production volume required per unit output from the oil industry.  \n",
    "Where can I read this production volume?  \n",
    "I suggest converting the Leontief inverse np.array to a pandas data frame, that way you can plot in pandas and you have all the labels. You use the .iloc() method to identify the required data."
   ]
  },
  {
   "cell_type": "code",
   "execution_count": null,
   "id": "58345900",
   "metadata": {},
   "outputs": [],
   "source": [
    "L=pd.DataFrame(LL, index=Z.index, columns=Z.columns)\n"
   ]
  },
  {
   "cell_type": "markdown",
   "id": "738227ae",
   "metadata": {},
   "source": [
    "e) What are the imports required to norwegian industry to satisfy the four categories of final demand?"
   ]
  },
  {
   "cell_type": "code",
   "execution_count": null,
   "id": "7c3b0244",
   "metadata": {},
   "outputs": [],
   "source": [
    "# write here the equation for Importsbydemand\n",
    "\n",
    "pd.Series(data= Importsbydemand, index=Y.columns)"
   ]
  },
  {
   "cell_type": "code",
   "execution_count": null,
   "id": "6da6e8cf",
   "metadata": {},
   "outputs": [],
   "source": []
  }
 ],
 "metadata": {
  "kernelspec": {
   "display_name": "Python 3",
   "language": "python",
   "name": "python3"
  },
  "language_info": {
   "codemirror_mode": {
    "name": "ipython",
    "version": 3
   },
   "file_extension": ".py",
   "mimetype": "text/x-python",
   "name": "python",
   "nbconvert_exporter": "python",
   "pygments_lexer": "ipython3",
   "version": "3.9.7"
  },
  "vscode": {
   "interpreter": {
    "hash": "97fd7b9b5193e1189226e4e33449b7da290fc96db44891f98c0851eb7cfe1070"
   }
  }
 },
 "nbformat": 4,
 "nbformat_minor": 5
}