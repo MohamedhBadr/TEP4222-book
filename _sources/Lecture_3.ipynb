{
 "cells": [
  {
   "attachments": {},
   "cell_type": "markdown",
   "id": "9d572431",
   "metadata": {},
   "source": [
    "# Lecture 3 - Symmetric input-output table of the Norwegian economy  "
   ]
  },
  {
   "attachments": {},
   "cell_type": "markdown",
   "metadata": {},
   "source": [
    "Edgar Hertwich, 2022\n",
    "\n",
    "Data source: Nygård, Input-output analysis of the Norwegian economy, url={https://www.norges-bank.no/contentassets/c0a72b2d48084964a6804e09beb2d60b/staff_memo_2013_17.pdf}\n",
    "\n",
    "The aim of this exercise is to  \n",
    "    - inspect a symmetric input-output table of Norway and thus learn some things about the Norwegian Economy  \n",
    "    - learn how to calculate and interpret the Leontief inverse  \n",
    "    - calculate the amount of imports to industries are required to satisfy the final demand by households, government, investment, and export.  \n",
    "    \n",
    "    "
   ]
  },
  {
   "cell_type": "code",
   "execution_count": null,
   "metadata": {},
   "outputs": [],
   "source": [
    "import pandas as pd\n",
    "import numpy as np"
   ]
  },
  {
   "cell_type": "code",
   "execution_count": null,
   "metadata": {},
   "outputs": [],
   "source": [
    "df = pd.read_excel('NO_2010.xlsx',usecols='A:J', index_col=0)\n",
    "df"
   ]
  },
  {
   "cell_type": "code",
   "execution_count": null,
   "metadata": {},
   "outputs": [],
   "source": [
    "Z = df.loc['Agriculture':'Finance','Agriculture':'Finance']\n",
    "M = df.loc['Imports','Agriculture':'Finance']\n",
    "V = df.loc['Labour':'Taxes','Agriculture':'Finance']"
   ]
  },
  {
   "cell_type": "markdown",
   "metadata": {},
   "source": [
    "**Q1: Define the matrices representing final demand (Y).**  \n",
    "- Evaluate the total demand by each final demand type and graph this.  "
   ]
  },
  {
   "cell_type": "code",
   "execution_count": null,
   "metadata": {},
   "outputs": [],
   "source": []
  },
  {
   "cell_type": "markdown",
   "metadata": {},
   "source": [
    "**Q2: Market Balance.**  \n",
    "a) Calculate the total sales of each commodity. Display on a bar or pie chart. What is the most sold commodity?  \n",
    "b) Compare sales to industries (intermediate use) with sales to final demand. What share of commodities produced in Norway is also used as an input to production in Norway?  \n",
    "c) Who is the largest consumer of services? "
   ]
  },
  {
   "cell_type": "code",
   "execution_count": null,
   "metadata": {},
   "outputs": [],
   "source": [
    "# a) Total sales of each commodity.\n",
    "\n",
    "# The most sold commodity is: "
   ]
  },
  {
   "cell_type": "code",
   "execution_count": null,
   "metadata": {},
   "outputs": [],
   "source": [
    "# b) intermediate vs final demand\n",
    "Y_sum=Y.sum().sum()\n",
    "\n",
    "#use the following code to print the share of intermediates:\n",
    "#print('Of all commodities, {:.0%} are used as an input to production in Norway'.format(intermediate_share))"
   ]
  },
  {
   "cell_type": "code",
   "execution_count": null,
   "metadata": {},
   "outputs": [],
   "source": [
    "# c) largest consumer of services\n",
    "all_sales=Z.join(Y)\n",
    "all_sales.loc['Services'].plot(kind='bar')\n",
    "# The largest consumer of services is the ..."
   ]
  },
  {
   "cell_type": "markdown",
   "metadata": {},
   "source": [
    "**Q3: Industry Balance.**  \n",
    "a) Calculate the total inputs to industry. Compare with answer to 2a). What do you notice?  \n",
    "b) How large is value added per unit output in each industry?   \n",
    "c) What industry has the highest capital intensity? What industry has the highest labor intensity?"
   ]
  },
  {
   "cell_type": "code",
   "execution_count": null,
   "metadata": {},
   "outputs": [],
   "source": [
    "# a) sum of inputs to industry\n",
    "\n",
    "# Explain what you find: "
   ]
  },
  {
   "cell_type": "markdown",
   "metadata": {},
   "source": [
    "**Q4: Input coefficients.**  \n"
   ]
  },
  {
   "cell_type": "code",
   "execution_count": null,
   "metadata": {},
   "outputs": [],
   "source": [
    "V_bar=V.divide(x2)\n",
    "M_bar = M.divide(x2)"
   ]
  },
  {
   "cell_type": "markdown",
   "metadata": {},
   "source": [
    "a) Calculate the A-matrix, i.e. the interindustry input coefficients. "
   ]
  },
  {
   "cell_type": "code",
   "execution_count": null,
   "metadata": {},
   "outputs": [],
   "source": []
  },
  {
   "cell_type": "markdown",
   "metadata": {},
   "source": [
    "b) what is the sum of all the input coefficients (interindustry, value added, imports) to an industry?"
   ]
  },
  {
   "cell_type": "code",
   "execution_count": null,
   "metadata": {},
   "outputs": [],
   "source": []
  },
  {
   "cell_type": "markdown",
   "metadata": {},
   "source": [
    "c) What is the Leontief inverse of the A matrix? "
   ]
  },
  {
   "cell_type": "code",
   "execution_count": null,
   "metadata": {},
   "outputs": [],
   "source": [
    "AA= np.array(A)\n",
    "LL=np.linalg.inv(np.eye(5)-AA)\n",
    "LL"
   ]
  },
  {
   "cell_type": "markdown",
   "metadata": {},
   "source": [
    "d) From the Leontief inverse, specify and graph the production volume required per unit output from the oil industry.  \n",
    "Where can I read this production volume?  \n",
    "I suggest converting the Leontief inverse np.array to a pandas data frame, that way you can plot in pandas and you have all the labels. You use the .iloc() method to identify the required data."
   ]
  },
  {
   "cell_type": "code",
   "execution_count": null,
   "metadata": {},
   "outputs": [],
   "source": [
    "L=pd.DataFrame(LL, index=Z.index, columns=Z.columns)\n"
   ]
  },
  {
   "cell_type": "markdown",
   "metadata": {},
   "source": [
    "e) What are the imports required to norwegian industry to satisfy the four categories of final demand?"
   ]
  },
  {
   "cell_type": "code",
   "execution_count": null,
   "metadata": {},
   "outputs": [],
   "source": [
    "# write here the equation for Importsbydemand\n",
    "\n",
    "pd.Series(data= Importsbydemand, index=Y.columns)"
   ]
  },
  {
   "cell_type": "code",
   "execution_count": null,
   "metadata": {},
   "outputs": [],
   "source": []
  }
 ],
 "metadata": {
  "kernelspec": {
   "display_name": "Python 3",
   "language": "python",
   "name": "python3"
  },
  "language_info": {
   "codemirror_mode": {
    "name": "ipython",
    "version": 3
   },
   "file_extension": ".py",
   "mimetype": "text/x-python",
   "name": "python",
   "nbconvert_exporter": "python",
   "pygments_lexer": "ipython3",
   "version": "3.9.13 (tags/v3.9.13:6de2ca5, May 17 2022, 16:36:42) [MSC v.1929 64 bit (AMD64)]"
  },
  "vscode": {
   "interpreter": {
    "hash": "97fd7b9b5193e1189226e4e33449b7da290fc96db44891f98c0851eb7cfe1070"
   }
  }
 },
 "nbformat": 4,
 "nbformat_minor": 5
}
